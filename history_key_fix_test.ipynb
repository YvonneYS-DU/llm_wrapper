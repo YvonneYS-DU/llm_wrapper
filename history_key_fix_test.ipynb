{
 "cells": [
  {
   "cell_type": "markdown",
   "metadata": {},
   "source": [
    "# History Key Default Value Fix Test\n",
    "\n",
    "Test the fixed history_key functionality to ensure first call doesn't fail due to missing key"
   ]
  },
  {
   "cell_type": "code",
   "execution_count": 1,
   "metadata": {},
   "outputs": [],
   "source": [
    "from llm_wrapper import Agents\n",
    "from llm_models import llm_4o_mini\n",
    "from langchain_core.output_parsers import StrOutputParser, JsonOutputParser\n"
   ]
  },
  {
   "cell_type": "markdown",
   "metadata": {},
   "source": [
    "test 0 wo chat history"
   ]
  },
  {
   "cell_type": "code",
   "execution_count": null,
   "metadata": {},
   "outputs": [],
   "source": [
    "# this prompt not requires a custom history key\n",
    "test_prompt = \"\"\"\n",
    "Generate 10 points intotal. content about {topic}. \n",
    "when generate 4 points then output \"<continue>\".\n",
    "the number should be continuesly sequence\n",
    "\"\"\"\n",
    "test_chain = Agents.chain_create(text_prompt_template=test_prompt,model=llm_4o_mini,)\n",
    "\n",
    "try:\n",
    "    result = Agents.continue_chain_batch_generator(\n",
    "        chain=test_chain,\n",
    "        dic={\"topic\": \"artificial intelligence ethics\"},  # Note: no my_custom_history\n",
    "        max_continue=2,\n",
    "        trigger_type=\"str\",  #\n",
    "        continue_trigger=\"<continue>\",\n",
    "    )\n",
    "    print(\"✅ Success! No error\")\n",
    "except Exception as e:\n",
    "    print(\"❌ Error:\", e)"
   ]
  },
  {
   "cell_type": "code",
   "execution_count": 11,
   "metadata": {},
   "outputs": [
    {
     "data": {
      "text/plain": [
       "\"1. **Transparency**: One of the key ethical considerations in artificial intelligence is the need for transparency in AI systems. Users and stakeholders should understand how AI algorithms make decisions, which can help build trust and accountability.\\n\\n2. **Bias and Fairness**: AI systems can inadvertently perpetuate or amplify biases present in their training data. It is crucial to ensure that AI applications are designed to be fair and equitable, minimizing discrimination against any group based on race, gender, or socioeconomic status.\\n\\n3. **Privacy**: The use of AI often involves the collection and analysis of vast amounts of personal data. Ethical AI development must prioritize user privacy, ensuring that data is collected, stored, and used in ways that respect individuals' rights and consent.\\n\\n4. **Accountability**: As AI systems become more autonomous, determining accountability for their actions becomes complex. Establishing clear lines of responsibility for AI decisions is essential to address potential harms and ensure that there are mechanisms for redress.\\n\\n<continue> \\n\\n5. **Autonomy**: Ethical considerations must also address the impact of AI on human autonomy. AI systems should be designed to augment human decision-making rather than replace it, ensuring that individuals retain control over their choices.\\n\\n6. **Job Displacement**: The rise of AI technologies poses significant challenges to the workforce, with potential job displacement in various sectors. Ethical AI development should consider the societal implications and work towards solutions that support affected workers.\\n\\n7. **Security**: AI systems can be vulnerable to attacks and misuse, leading to ethical concerns regarding their security. Developers must prioritize building robust and secure AI systems to prevent malicious exploitation and ensure public safety.\\n\\n8. **Environmental Impact**: The development and deployment of AI technologies can have significant environmental consequences, particularly in terms of energy consumption. Ethical considerations should include the sustainability of AI practices and their impact on the planet.\\n\\n9. **Human Rights**: AI technologies must be aligned with the protection and promotion of human rights. Ethical frameworks should ensure that AI applications do not infringe upon fundamental rights, such as freedom of expression and the right to privacy.\\n\\n10. **Global Equity**: The benefits of AI should be distributed equitably across different regions and communities. Ethical AI development must address the digital divide and ensure that marginalized populations have access to AI technologies and their advantages.\""
      ]
     },
     "execution_count": 11,
     "metadata": {},
     "output_type": "execute_result"
    }
   ],
   "source": [
    "result"
   ]
  },
  {
   "cell_type": "markdown",
   "metadata": {},
   "source": [
    "## Test 1: Verify First Call Doesn't Error"
   ]
  },
  {
   "cell_type": "code",
   "execution_count": 2,
   "metadata": {},
   "outputs": [
    {
     "name": "stdout",
     "output_type": "stream",
     "text": [
      "Warning: schema not found in prompt template, skipping format instructions\n",
      "=== Test First Call No Error ===\n",
      "✅ Success! No error\n",
      "Result length: 3398\n",
      "First 300 characters:\n",
      "1. **Definition of AI Ethics**: AI ethics refers to the moral principles and guidelines that govern the development and deployment of artificial intelligence technologies. It encompasses issues such as fairness, accountability, transparency, and the impact of AI on society.\n",
      "\n",
      "2. **Bias and Fairness**\n"
     ]
    }
   ],
   "source": [
    "# This prompt requires a custom history key\n",
    "test_prompt = \"\"\"\n",
    "Generate content about {topic}. 10 points intotal.\n",
    "\n",
    "History log: {my_custom_history}\n",
    "\n",
    "If there's history, continue based on the history.\n",
    "Generate 4 points then output \"continue.......\".\n",
    "\"\"\"\n",
    "\n",
    "test_chain = Agents.chain_create(\n",
    "    model=llm_4o_mini,\n",
    "    text_prompt_template=test_prompt\n",
    ")\n",
    "\n",
    "print(\"=== Test First Call No Error ===\")\n",
    "\n",
    "# Here dic doesn't contain my_custom_history, but should not error\n",
    "try:\n",
    "    result = Agents.continue_chain_batch_generator(\n",
    "        chain=test_chain,\n",
    "        dic={\"topic\": \"artificial intelligence ethics\"},  # Note: no my_custom_history\n",
    "        max_continue=2,\n",
    "        trigger_type=\"str\",  # \n",
    "        continue_trigger=\"continue\",\n",
    "        history_key=\"my_custom_history\"  # But specified this key\n",
    "    )\n",
    "    print(\"✅ Success! No error\")\n",
    "    print(f\"Result length: {len(result)}\")\n",
    "    print(\"First 300 characters:\")\n",
    "    print(result[:300])\n",
    "except Exception as e:\n",
    "    print(f\"❌ Failed: {e}\")"
   ]
  },
  {
   "cell_type": "code",
   "execution_count": 4,
   "metadata": {},
   "outputs": [
    {
     "data": {
      "text/plain": [
       "\"1. **Definition of AI Ethics**: AI ethics refers to the moral principles and guidelines that govern the development and deployment of artificial intelligence technologies. It encompasses issues such as fairness, accountability, transparency, and the impact of AI on society.\\n\\n2. **Bias and Fairness**: One of the primary concerns in AI ethics is the potential for bias in AI algorithms. If the data used to train AI systems is biased, the outcomes can perpetuate discrimination against certain groups. Ensuring fairness involves actively identifying and mitigating these biases.\\n\\n3. **Accountability**: As AI systems become more autonomous, determining accountability for their actions becomes complex. Questions arise about who is responsible when an AI system causes harm or makes a mistake—whether it be the developers, users, or the AI itself.\\n\\n4. **Privacy and Surveillance**: The use of AI in surveillance technologies raises significant ethical concerns regarding privacy. The ability of AI to analyze vast amounts of personal data can lead to intrusive monitoring and a loss of individual privacy, necessitating a careful balance between security and personal freedoms.\\n5. **Transparency**: Transparency in AI systems is crucial for building trust and understanding among users. This involves making the decision-making processes of AI algorithms understandable to non-experts. Clear communication about how AI systems operate and the data they use can help demystify their functions and foster accountability.\\n\\n6. **Informed Consent**: The deployment of AI technologies often involves the collection and use of personal data. Ethical AI practices require obtaining informed consent from individuals whose data is being used. This means individuals should be fully aware of how their data will be utilized and the potential implications of its use.\\n\\n7. **Job Displacement and Economic Impact**: The rise of AI technologies has the potential to disrupt job markets and economies. Ethical considerations must address the impact of automation on employment, including the need for retraining programs and social safety nets for those displaced by AI-driven changes in the workforce.\\n\\n8. **Autonomous Decision-Making**: As AI systems increasingly make decisions without human intervention, ethical dilemmas arise regarding the moral implications of these decisions. For instance, in critical areas like healthcare or criminal justice, the consequences of AI decision-making can have profound effects on individuals' lives, necessitating a framework for ethical oversight.\\n9. **Human-AI Collaboration**: The ethical implications of human-AI collaboration must be considered, particularly in contexts where AI systems augment human decision-making. It is essential to ensure that AI tools enhance human capabilities without undermining human judgment or agency. Establishing clear boundaries for collaboration can help maintain a balance between human oversight and AI efficiency.\\n\\n10. **Global Equity and Access**: The development and deployment of AI technologies can exacerbate existing inequalities if access to these technologies is not equitable. Ethical AI practices should promote inclusivity, ensuring that marginalized communities benefit from AI advancements rather than being left behind. This includes addressing the digital divide and fostering global cooperation in AI development.\""
      ]
     },
     "execution_count": 4,
     "metadata": {},
     "output_type": "execute_result"
    }
   ],
   "source": [
    "result"
   ]
  },
  {
   "cell_type": "markdown",
   "metadata": {},
   "source": [
    "test json"
   ]
  },
  {
   "cell_type": "code",
   "execution_count": 5,
   "metadata": {},
   "outputs": [
    {
     "name": "stdout",
     "output_type": "stream",
     "text": [
      "Warning: schema not found in prompt template, skipping format instructions\n",
      "✅ Success! No error\n",
      "Result length: 1774\n",
      "First 300 characters:\n",
      "[{'number': 1, 'content': 'Artificial intelligence ethics examines the moral implications and responsibilities associated with the development and deployment of AI technologies.'}, {'number': 2, 'content': 'Key ethical concerns include bias in AI algorithms, which can lead to unfair treatment of ind\n"
     ]
    }
   ],
   "source": [
    "test_prompt = \"\"\"\n",
    "  generate content about {topic}. 10 points intotal.\n",
    "  History log: {my_custom_history}\n",
    "  If there's history, continue based on the history.\n",
    "\n",
    "  IMPORTANT: Output ONLY valid JSON without any markdown formatting or code \n",
    "  blocks.\n",
    "\n",
    "  Format:\n",
    "  [\n",
    "      {{\"number\": 1, \"content\": \"point 1 xxxx\"}},\n",
    "      {{\"number\": 2, \"content\": \"point 2 xxxx\"}},\n",
    "      ...\n",
    "      {{\"continue\": \"continue\"}}\n",
    "  ]\n",
    "\n",
    "  Generate 4 points then add the continue marker in the JSON array.\n",
    "  \"\"\"\n",
    "\n",
    "test_chain = Agents.chain_create(model=llm_4o_mini, text_prompt_template=test_prompt, output_parser=JsonOutputParser())\n",
    "\n",
    "try:\n",
    "    result = Agents.continue_chain_batch_generator(\n",
    "        chain=test_chain,\n",
    "        dic={\"topic\": \"artificial intelligence ethics\"},  # Note: no my_custom_history\n",
    "        max_continue=2,\n",
    "        trigger_type=\"json\",\n",
    "        continue_trigger={\"continue\": \"continue\"},  # New simple JSON format\n",
    "        history_key=\"my_custom_history\"  # But specified this key\n",
    "    )\n",
    "    print(\"✅ Success! No error\")\n",
    "    print(f\"Result length: {len(result)}\")\n",
    "    print(\"First 300 characters:\")\n",
    "    print(result[:300])\n",
    "except Exception as e:\n",
    "    print(f\"❌ Failed: {e}\")"
   ]
  },
  {
   "cell_type": "code",
   "execution_count": 6,
   "metadata": {},
   "outputs": [
    {
     "data": {
      "text/plain": [
       "\"[{'number': 1, 'content': 'Artificial intelligence ethics examines the moral implications and responsibilities associated with the development and deployment of AI technologies.'}, {'number': 2, 'content': 'Key ethical concerns include bias in AI algorithms, which can lead to unfair treatment of individuals based on race, gender, or socioeconomic status.'}, {'number': 3, 'content': 'Transparency in AI decision-making processes is crucial to ensure accountability and trust among users and stakeholders.'}, {'number': 4, 'content': 'The potential for job displacement due to automation raises ethical questions about the responsibility of companies and governments to support affected workers.'}, ]\\n[{'number': 5, 'content': 'The use of AI in surveillance raises ethical concerns regarding privacy and the potential for abuse of power by authorities.'}, {'number': 6, 'content': 'Informed consent is essential when deploying AI systems, particularly in healthcare, where patients should understand how their data is used.'}, {'number': 7, 'content': 'The development of autonomous weapons systems poses significant ethical dilemmas regarding accountability for actions taken by machines.'}, {'number': 8, 'content': 'AI systems should be designed to promote inclusivity and accessibility, ensuring that all individuals can benefit from technological advancements.'}, ]\\n[{'number': 9, 'content': 'The ethical implications of AI in decision-making processes, such as in criminal justice or hiring, necessitate careful consideration to avoid reinforcing systemic inequalities.'}, {'number': 10, 'content': 'Collaboration between technologists, ethicists, and policymakers is essential to create comprehensive frameworks that guide the ethical development and use of AI.'}, ]\""
      ]
     },
     "execution_count": 6,
     "metadata": {},
     "output_type": "execute_result"
    }
   ],
   "source": [
    "result"
   ]
  }
 ],
 "metadata": {
  "kernelspec": {
   "display_name": "chat",
   "language": "python",
   "name": "chat"
  },
  "language_info": {
   "codemirror_mode": {
    "name": "ipython",
    "version": 3
   },
   "file_extension": ".py",
   "mimetype": "text/x-python",
   "name": "python",
   "nbconvert_exporter": "python",
   "pygments_lexer": "ipython3",
   "version": "3.12.2"
  }
 },
 "nbformat": 4,
 "nbformat_minor": 4
}
